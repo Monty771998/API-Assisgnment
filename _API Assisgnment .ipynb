{
 "cells": [
  {
   "cell_type": "markdown",
   "id": "69cc03e6-3267-42a0-a3f6-26bedd1c1871",
   "metadata": {},
   "source": [
    "Q1. What is an API? Give an example, where an API is used in real life."
   ]
  },
  {
   "cell_type": "markdown",
   "id": "dd434ce9-b9fe-430a-b5b7-25a2819c1fbf",
   "metadata": {},
   "source": [
    "An API (Application Programming Interface) is a set of rules that allow two pieces of software\n",
    "to talk to each other.\n",
    "Google Map ,Google ,Weather App etc \n",
    "\n",
    "example of an API in real life:\n",
    "The Google Maps API: The Google Maps API allows developers to embed maps and directions into\n",
    "their own websites or apps,example Swiggy and Zomato\n",
    "\n"
   ]
  },
  {
   "cell_type": "code",
   "execution_count": null,
   "id": "209f2d21-8175-4710-a682-872a91b561ce",
   "metadata": {},
   "outputs": [],
   "source": []
  },
  {
   "cell_type": "markdown",
   "id": "44e2aeca-901d-49bb-9301-a27417875c79",
   "metadata": {},
   "source": [
    "Q2. Give advantages and disadvantages of using API."
   ]
  },
  {
   "cell_type": "markdown",
   "id": "edf60166-2a52-451d-ba73-dcd0e0f8ee5a",
   "metadata": {},
   "source": [
    "Advantages:\n",
    "Increased interoperability: It can increase the interoperability between two system means through API data can\n",
    "be accesed easily \n",
    "Generate Income: It can create multiple ways by which we can earn income from developers by providing data like\n",
    "weather company do\n",
    "Improved efficiency: APIs can help to improve efficiency by enabling developers to reuse code and \n",
    "functionality from existing software systems. \n",
    "\n",
    "Disadvantages:\n",
    "Security risks: it is high risk involved if API are not properly designed and implemented,hacker can easily access \n",
    "information data\n",
    "Complexity: APIs can be complex to develop and use for some developers.\n",
    "Compatibility issues: APIs can be incompatible with different software systems. This can make it difficult to\n",
    "integrate APIs into existing applications."
   ]
  },
  {
   "cell_type": "code",
   "execution_count": null,
   "id": "a674155a-65f6-4483-8cc8-6019aab5b1b1",
   "metadata": {},
   "outputs": [],
   "source": []
  },
  {
   "cell_type": "markdown",
   "id": "94ea4dbb-6bbe-4734-9f84-1f12f583228f",
   "metadata": {},
   "source": [
    "Q3. What is a Web API? Differentiate between API and Web API."
   ]
  },
  {
   "cell_type": "code",
   "execution_count": null,
   "id": "7f740624-f4be-45bc-82fd-55e7f8c40c49",
   "metadata": {},
   "outputs": [],
   "source": [
    "A Web API is a type of API that uses the HTTP protocol to communicate between different applications.\n",
    "\n",
    "Differences on basis-\n",
    "1.Communication protocol: API uses HTTP,SOAP or CORBA while web API use HTTP protocol to communicate with \n",
    "each other\n",
    "2.Location: APIs can be hosted on any type of server, such as a web server or an enterprise server. Web APIs\n",
    "are typically hosted on web servers, which makes themaccessible to anyone with an internet connection.\n",
    "3.Usage: APIs can be used for a variety of purposes, such as data integration, application development, and\n",
    "machine-to-machine communication. Web APIs are typically used for data integration and application development."
   ]
  },
  {
   "cell_type": "code",
   "execution_count": null,
   "id": "238a1603-84f5-46c0-a662-9281baea349a",
   "metadata": {},
   "outputs": [],
   "source": []
  },
  {
   "cell_type": "markdown",
   "id": "22edb07d-1a7b-48bd-98f9-be3d581d9c09",
   "metadata": {},
   "source": [
    "Q4. Explain REST and SOAP Architecture. Mention shortcomings of SOAP."
   ]
  },
  {
   "cell_type": "markdown",
   "id": "0290aed3-2baf-4fc6-9696-e3d36bd66a88",
   "metadata": {},
   "source": [
    "REST and SOAP are two different architectural styles for designing web services. REST is\n",
    "a lightweight architectural style that uses the HTTP protocol to communicate between different\n",
    "applications. SOAP is a more complex architectural style that uses XML to define the messages that\n",
    "are exchanged between different applications\n",
    "\n",
    "\n",
    "Shorycomings:\n",
    "Complexity: SOAP is a more complex architectural style than REST. This can make it more difficult\n",
    "            to implement and maintain SOAP web services.\n",
    "Size: SOAP messages are typically larger than REST messages. This can make SOAP web services slower\n",
    "      and less efficient.\n",
    "Security: SOAP messages can be more difficult to secure than REST messages. This is because SOAP messages\n",
    "          are typically larger and contain more complex data.\n",
    "Support: SOAP is not as widely supported as REST. This can make it more difficult to find developers who\n",
    "         are familiar with SOAP."
   ]
  },
  {
   "cell_type": "code",
   "execution_count": null,
   "id": "8d4fd8c9-576d-4445-8142-07ece3253d59",
   "metadata": {},
   "outputs": [],
   "source": []
  },
  {
   "cell_type": "markdown",
   "id": "95906858-b66d-470f-9c63-073e97687125",
   "metadata": {},
   "source": [
    "Q5. Differentiate between REST and SOAP."
   ]
  },
  {
   "cell_type": "markdown",
   "id": "3b8a3859-64d5-4833-bfad-de720316bd08",
   "metadata": {},
   "source": [
    "differences between REST and SOAP:\n",
    "    \n",
    "Communication protocol: REST uses the HTTP protocol, while SOAP uses XML.\n",
    "Message format        : REST uses a variety of message formats, such as JSON, XML, and plain text.\n",
    "                        SOAP only uses XML\n",
    "Flexibility:          : REST is more flexible than SOAP. This is because REST does not have a strict set of rules\n",
    "                        that must be followed.\n",
    "Performance:          : REST is typically faster than SOAP. This is because REST messages are smaller and simpler\n",
    "                        than SOAP messages."
   ]
  },
  {
   "cell_type": "code",
   "execution_count": null,
   "id": "47970946-5677-404c-bc75-6257d1717773",
   "metadata": {},
   "outputs": [],
   "source": []
  }
 ],
 "metadata": {
  "kernelspec": {
   "display_name": "Python 3 (ipykernel)",
   "language": "python",
   "name": "python3"
  },
  "language_info": {
   "codemirror_mode": {
    "name": "ipython",
    "version": 3
   },
   "file_extension": ".py",
   "mimetype": "text/x-python",
   "name": "python",
   "nbconvert_exporter": "python",
   "pygments_lexer": "ipython3",
   "version": "3.10.8"
  }
 },
 "nbformat": 4,
 "nbformat_minor": 5
}
